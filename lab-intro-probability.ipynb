{
 "cells": [
  {
   "cell_type": "markdown",
   "metadata": {},
   "source": [
    "# Lab | Intro to Probability"
   ]
  },
  {
   "cell_type": "markdown",
   "metadata": {},
   "source": [
    "**Objective**\n",
    "\n",
    "Welcome to this Intro to Probability lab, where we explore decision-making scenarios through the lens of probability and strategic analysis. In the business world, making informed decisions is crucial, especially when faced with uncertainties. This lab focuses on scenarios where probabilistic outcomes play a significant role in shaping strategies and outcomes. Students will engage in exercises that require assessing and choosing optimal paths based on data-driven insights. The goal is to enhance your skills by applying probability concepts to solve real-world problems."
   ]
  },
  {
   "cell_type": "markdown",
   "metadata": {},
   "source": [
    "**Challenge 1**"
   ]
  },
  {
   "cell_type": "markdown",
   "metadata": {},
   "source": [
    "#### Ironhack Airlines \n",
    "\n",
    "Often Airlines sell more tickets than they have seats available, this is called overbooking. Consider the following:\n",
    "- A plane has 450 seats. \n",
    "- Based on historical data we conclude that each individual passenger has a 3% chance of missing it's flight. \n",
    "\n",
    "If the Ironhack Airlines routinely sells 460 tickets, what is the chance that they have a seats for all passenger?"
   ]
  },
  {
   "cell_type": "code",
   "execution_count": 1,
   "metadata": {},
   "outputs": [
    {
     "name": "stdout",
     "output_type": "stream",
     "text": [
      "La probabilidad de que haya asientos para todos los pasajeros es: 0.1155\n"
     ]
    }
   ],
   "source": [
    "import scipy.stats as stats\n",
    "\n",
    "# Parámetros de la distribución binomial\n",
    "n = 460  # número de pasajeros\n",
    "p = 0.03  # probabilidad de que un pasajero no se presente\n",
    "\n",
    "# Calcular la probabilidad de que menos de 10 pasajeros no se presenten\n",
    "prob_less_than_10 = stats.binom.cdf(9, n, p)\n",
    "\n",
    "# Calcular la probabilidad de que 10 o más pasajeros no se presenten\n",
    "prob_10_or_more = 1 - prob_less_than_10\n",
    "\n",
    "# Calcular la probabilidad de que haya asientos para todos los pasajeros\n",
    "prob_seats_for_all = prob_less_than_10\n",
    "\n",
    "print(f\"La probabilidad de que haya asientos para todos los pasajeros es: {prob_seats_for_all:.4f}\")"
   ]
  },
  {
   "cell_type": "markdown",
   "metadata": {},
   "source": [
    "**Challenge 2**"
   ]
  },
  {
   "cell_type": "markdown",
   "metadata": {},
   "source": [
    "#### Ironhack Call Center "
   ]
  },
  {
   "cell_type": "markdown",
   "metadata": {},
   "source": [
    "Suppose a customer service representative at a call center is handling customer complaints. Consider the following:\n",
    "- The probability of successfully resolving a customer complaint on the first attempt is 0.3. \n",
    "\n",
    "\n",
    "What is the probability that the representative needs to make at least three attempts before successfully resolving a customer complaint?"
   ]
  },
  {
   "cell_type": "code",
   "execution_count": 2,
   "metadata": {},
   "outputs": [
    {
     "name": "stdout",
     "output_type": "stream",
     "text": [
      "La probabilidad de necesitar al menos 3 intentos es: 0.4900\n"
     ]
    }
   ],
   "source": [
    "# Parámetros de la distribución geométrica\n",
    "p = 0.3  # probabilidad de éxito en un intento\n",
    "k = 3  # número mínimo de intentos\n",
    "\n",
    "# Calcular la probabilidad de necesitar al menos k intentos\n",
    "prob_at_least_k_attempts = (1 - p) ** (k - 1)\n",
    "\n",
    "print(f\"La probabilidad de necesitar al menos {k} intentos es: {prob_at_least_k_attempts:.4f}\")"
   ]
  },
  {
   "cell_type": "markdown",
   "metadata": {},
   "source": [
    "**Challenge 3**"
   ]
  },
  {
   "cell_type": "markdown",
   "metadata": {},
   "source": [
    "#### Ironhack Website"
   ]
  },
  {
   "cell_type": "markdown",
   "metadata": {},
   "source": [
    "Consider a scenario related to Ironhack website traffic. Where:\n",
    "- our website takes on average 500 visits per hour.\n",
    "- the website's server is designed to handle up to 550 vists per hour.\n",
    "\n",
    "\n",
    "What is the probability of the website server being overwhelmed?"
   ]
  },
  {
   "cell_type": "code",
   "execution_count": 3,
   "metadata": {},
   "outputs": [
    {
     "name": "stdout",
     "output_type": "stream",
     "text": [
      "La probabilidad de que el servidor se vea abrumado es: 0.0129\n"
     ]
    }
   ],
   "source": [
    "import scipy.stats as stats\n",
    "\n",
    "# Parámetros de la distribución de Poisson\n",
    "lambda_visits = 500  # tasa promedio de visitas por hora\n",
    "threshold = 550  # capacidad del servidor\n",
    "\n",
    "# Calcular la probabilidad acumulada de que el número de visitas sea menor o igual a 550\n",
    "prob_less_than_equal_550 = stats.poisson.cdf(threshold, lambda_visits)\n",
    "\n",
    "# Calcular la probabilidad de que el número de visitas sea mayor que 550\n",
    "prob_greater_than_550 = 1 - prob_less_than_equal_550\n",
    "\n",
    "print(f\"La probabilidad de que el servidor se vea abrumado es: {prob_greater_than_550:.4f}\")"
   ]
  },
  {
   "cell_type": "markdown",
   "metadata": {},
   "source": [
    "What is the probability of being overwhelmed at some point during a day? (consider 24hours)"
   ]
  },
  {
   "cell_type": "code",
   "execution_count": 4,
   "metadata": {},
   "outputs": [
    {
     "name": "stdout",
     "output_type": "stream",
     "text": [
      "La probabilidad de que el servidor se vea abrumado al menos una vez durante el día es: 0.2677\n"
     ]
    }
   ],
   "source": [
    "import scipy.stats as stats\n",
    "\n",
    "# Parámetros de la distribución de Poisson\n",
    "lambda_visits = 500  # tasa promedio de visitas por hora\n",
    "threshold = 550  # capacidad del servidor\n",
    "\n",
    "# Calcular la probabilidad acumulada de que el número de visitas sea menor o igual a 550\n",
    "prob_less_than_equal_550 = stats.poisson.cdf(threshold, lambda_visits)\n",
    "\n",
    "# Calcular la probabilidad de que el servidor no se vea abrumado en una hora\n",
    "prob_not_overwhelmed_one_hour = prob_less_than_equal_550\n",
    "\n",
    "# Calcular la probabilidad de que el servidor no se vea abrumado en ninguna de las 24 horas\n",
    "prob_not_overwhelmed_24_hours = prob_not_overwhelmed_one_hour ** 24\n",
    "\n",
    "# Calcular la probabilidad de que el servidor se vea abrumado al menos una vez durante el día\n",
    "prob_overwhelmed_at_least_once = 1 - prob_not_overwhelmed_24_hours\n",
    "\n",
    "print(f\"La probabilidad de que el servidor se vea abrumado al menos una vez durante el día es: {prob_overwhelmed_at_least_once:.4f}\")"
   ]
  },
  {
   "cell_type": "markdown",
   "metadata": {},
   "source": [
    "**Challenge 4**"
   ]
  },
  {
   "cell_type": "markdown",
   "metadata": {},
   "source": [
    "#### Ironhack Helpdesk"
   ]
  },
  {
   "cell_type": "markdown",
   "metadata": {},
   "source": [
    "Consider a scenario related to the time between arrivals of customers at a service desk.\n",
    "\n",
    "On average, a customers arrives every 10minutes.\n",
    "\n",
    "What is the probability that the next customer will arrive within the next 5 minutes?"
   ]
  },
  {
   "cell_type": "code",
   "execution_count": 5,
   "metadata": {},
   "outputs": [
    {
     "name": "stdout",
     "output_type": "stream",
     "text": [
      "La probabilidad de que el próximo cliente llegue dentro de los próximos 5 minutos es: 0.3935\n"
     ]
    }
   ],
   "source": [
    "import scipy.stats as stats\n",
    "\n",
    "# Parámetros de la distribución exponencial\n",
    "lambda_arrival = 1 / 10  # tasa de llegada (clientes por minuto)\n",
    "t = 5  # tiempo en minutos\n",
    "\n",
    "# Calcular la probabilidad de que el próximo cliente llegue dentro de los próximos 5 minutos\n",
    "prob_within_5_minutes = stats.expon.cdf(t, scale=1/lambda_arrival)\n",
    "\n",
    "print(f\"La probabilidad de que el próximo cliente llegue dentro de los próximos 5 minutos es: {prob_within_5_minutes:.4f}\")"
   ]
  },
  {
   "cell_type": "markdown",
   "metadata": {},
   "source": [
    "If there is no customer for 15minutes, employees can that a 5minutes break.\n",
    "\n",
    "What is the probability an employee taking a break?"
   ]
  },
  {
   "cell_type": "code",
   "execution_count": 6,
   "metadata": {},
   "outputs": [
    {
     "name": "stdout",
     "output_type": "stream",
     "text": [
      "La probabilidad de que no haya clientes durante los próximos 15 minutos es: 0.7769\n"
     ]
    }
   ],
   "source": [
    "import scipy.stats as stats\n",
    "\n",
    "# Parámetros de la distribución exponencial\n",
    "lambda_arrival = 1 / 10  # tasa de llegada (clientes por minuto)\n",
    "t = 15  # tiempo en minutos\n",
    "\n",
    "# Calcular la probabilidad de que no haya clientes durante los próximos 15 minutos\n",
    "prob_no_customers_15_minutes = stats.expon.cdf(t, scale=1/lambda_arrival)\n",
    "\n",
    "print(f\"La probabilidad de que no haya clientes durante los próximos 15 minutos es: {prob_no_customers_15_minutes:.4f}\")"
   ]
  },
  {
   "cell_type": "markdown",
   "metadata": {},
   "source": [
    "**Challenge 5**"
   ]
  },
  {
   "cell_type": "markdown",
   "metadata": {},
   "source": [
    "The weights of a certain species of birds follow a normal distribution with a mean weight of 150 grams and a standard deviation of 10 grams. \n",
    "\n",
    "- If we randomly select a bird, what is the probability that its weight is between 140 and 160 grams?"
   ]
  },
  {
   "cell_type": "code",
   "execution_count": 7,
   "metadata": {},
   "outputs": [
    {
     "name": "stdout",
     "output_type": "stream",
     "text": [
      "La probabilidad de que el peso de un pájaro esté entre 140 y 160 gramos es: 0.6827\n"
     ]
    }
   ],
   "source": [
    "import scipy.stats as stats\n",
    "\n",
    "# Parámetros de la distribución normal\n",
    "mu = 150  # media\n",
    "sigma = 10  # desviación estándar\n",
    "\n",
    "# Calcular los z-scores\n",
    "z1 = (140 - mu) / sigma\n",
    "z2 = (160 - mu) / sigma\n",
    "\n",
    "# Calcular la probabilidad acumulada usando la CDF de la distribución normal\n",
    "prob_140_to_160 = stats.norm.cdf(z2) - stats.norm.cdf(z1)\n",
    "\n",
    "print(f\"La probabilidad de que el peso de un pájaro esté entre 140 y 160 gramos es: {prob_140_to_160:.4f}\")"
   ]
  },
  {
   "cell_type": "markdown",
   "metadata": {},
   "source": [
    "**Challenge 6**"
   ]
  },
  {
   "cell_type": "markdown",
   "metadata": {},
   "source": [
    "If the lifetime (in hours) of a certain electronic component follows an exponential distribution with a mean lifetime of 50 hours, what is the probability that the component fails within the first 30 hours?"
   ]
  },
  {
   "cell_type": "code",
   "execution_count": 8,
   "metadata": {},
   "outputs": [
    {
     "name": "stdout",
     "output_type": "stream",
     "text": [
      "La probabilidad de que el componente falle dentro de las primeras 30 horas es: 0.4512\n"
     ]
    }
   ],
   "source": [
    "import scipy.stats as stats\n",
    "\n",
    "# Parámetros de la distribución exponencial\n",
    "mean_lifetime = 50  # vida media en horas\n",
    "lambda_failure = 1 / mean_lifetime  # tasa de fallos (inversa de la vida media)\n",
    "t = 30  # tiempo en horas\n",
    "\n",
    "# Calcular la probabilidad de que el componente falle dentro de las primeras 30 horas\n",
    "prob_failure_within_30_hours = stats.expon.cdf(t, scale=1/lambda_failure)\n",
    "\n",
    "print(f\"La probabilidad de que el componente falle dentro de las primeras 30 horas es: {prob_failure_within_30_hours:.4f}\")"
   ]
  }
 ],
 "metadata": {
  "kernelspec": {
   "display_name": "base",
   "language": "python",
   "name": "python3"
  },
  "language_info": {
   "codemirror_mode": {
    "name": "ipython",
    "version": 3
   },
   "file_extension": ".py",
   "mimetype": "text/x-python",
   "name": "python",
   "nbconvert_exporter": "python",
   "pygments_lexer": "ipython3",
   "version": "3.11.7"
  }
 },
 "nbformat": 4,
 "nbformat_minor": 2
}
